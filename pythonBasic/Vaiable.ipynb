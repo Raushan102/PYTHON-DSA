{
 "cells": [
  {
   "cell_type": "markdown",
   "id": "48297dc0",
   "metadata": {},
   "source": [
    "<h3 style=\"color:#e67e22;\">Variables</h3>\n",
    "\n",
    "<p style=\"color:#f1c40f;\">\n",
    "Variables are fundamental elements in programming used to <strong style=\"color:#00ffff;\">store data</strong> that can be referenced and manipulated in a program.\n",
    "</p>\n",
    "\n",
    "<p style=\"color:#f1c40f;\">\n",
    "In Python, variables are created when you assign a value to them. They do <strong style=\"color:#00ffff;\">not require explicit declaration</strong> to reserve memory. The declaration happens automatically upon assignment.\n",
    "</p>\n",
    "\n",
    "<span style=\"color:#16a085;\"><strong>Video Outline:</strong></span>  \n",
    "<ul style=\"color:#f1c40f;\">\n",
    "  <li>Introduction to Variables</li>\n",
    "  <li>Declaring and Assigning Variables</li>\n",
    "  <li>Naming Conventions</li>\n",
    "  <li>Understanding Variable Types</li>\n",
    "  <li>Type Checking and Conversion</li>\n",
    "  <li>Dynamic Typing</li>\n",
    "  <li>Practical Examples and Common Errors</li>\n",
    "</ul>\n"
   ]
  },
  {
   "cell_type": "code",
   "execution_count": null,
   "id": "aef0b4b8",
   "metadata": {},
   "outputs": [],
   "source": [
    "a=100"
   ]
  },
  {
   "cell_type": "code",
   "execution_count": 1,
   "id": "541c977f",
   "metadata": {},
   "outputs": [
    {
     "name": "stdout",
     "output_type": "stream",
     "text": [
      "age : 32\n",
      "Height: 6.1\n",
      "Name: Krish\n"
     ]
    }
   ],
   "source": [
    "## Declaring And Assigning Variables\n",
    "\n",
    "age = 32\n",
    "height = 6.1\n",
    "name = \"Krish\"\n",
    "is_student = True\n",
    "\n",
    "## Printing the variables\n",
    "print(\"age :\", age)\n",
    "print(\"Height:\", height)\n",
    "print(\"Name:\", name)\n"
   ]
  },
  {
   "cell_type": "code",
   "execution_count": 2,
   "id": "939efc1e",
   "metadata": {},
   "outputs": [],
   "source": [
    "## Naming Conventions\n",
    "## Variable names should be descriptive\n",
    "## They must start with a letter or an '_' and can contain letters, numbers, and underscores\n",
    "## Variable names are case sensitive\n",
    "\n",
    "# Valid variable names\n",
    "first_name = \"KRish\"\n",
    "last_name = \"Naik\"\n"
   ]
  },
  {
   "cell_type": "code",
   "execution_count": 3,
   "id": "a15f7e03",
   "metadata": {},
   "outputs": [],
   "source": [
    "# Invalid variable names\n",
    "# 2age = 30         # Cannot start with a number\n",
    "# first-name = \"Krish\"  # Hyphen is not allowed\n",
    "# @name = \"Krish\"       # Special symbols like @ are not allowed\n"
   ]
  },
  {
   "cell_type": "code",
   "execution_count": null,
   "id": "e5c07348",
   "metadata": {},
   "outputs": [],
   "source": [
    "## Case Sensitivity\n",
    "name = \"Krish\"\n",
    "Name = \"Naik\"\n",
    "\n",
    "name == Name  # This will return False because variable names are case sensitive\n"
   ]
  },
  {
   "cell_type": "code",
   "execution_count": 4,
   "id": "da738262",
   "metadata": {},
   "outputs": [
    {
     "name": "stdout",
     "output_type": "stream",
     "text": [
      "<class 'str'>\n"
     ]
    }
   ],
   "source": [
    "## Understanding Variable Types\n",
    "## Python is dynamically typed, the type is determined at runtime\n",
    "\n",
    "age = 25         # int\n",
    "height = 6.1     # float\n",
    "name = \"KRish\"   # str\n",
    "is_student = True  # bool\n",
    "\n",
    "print(type(name))  # Output: <class 'str'>\n",
    "  "
   ]
  },
  {
   "cell_type": "code",
   "execution_count": null,
   "id": "2b09c627",
   "metadata": {},
   "outputs": [],
   "source": [
    "## Type Checking and Conversion\n",
    "\n",
    "type(height)  # Output: float\n"
   ]
  },
  {
   "cell_type": "code",
   "execution_count": 5,
   "id": "8ee99085",
   "metadata": {},
   "outputs": [
    {
     "name": "stdout",
     "output_type": "stream",
     "text": [
      "<class 'int'>\n",
      "25\n",
      "<class 'str'>\n"
     ]
    }
   ],
   "source": [
    "age = 25\n",
    "print(type(age))  # <class 'int'>\n",
    "\n",
    "# Type conversion\n",
    "age_str = str(age)\n",
    "print(age_str)         # \"25\"\n",
    "print(type(age_str))   # <class 'str'>\n"
   ]
  },
  {
   "cell_type": "code",
   "execution_count": 6,
   "id": "0aa08ed8",
   "metadata": {},
   "outputs": [
    {
     "name": "stdout",
     "output_type": "stream",
     "text": [
      "<class 'int'>\n"
     ]
    }
   ],
   "source": [
    "age = '25'\n",
    "print(type(int(age)))  # <class 'int'>\n"
   ]
  },
  {
   "cell_type": "code",
   "execution_count": 7,
   "id": "889d6445",
   "metadata": {},
   "outputs": [
    {
     "ename": "ValueError",
     "evalue": "invalid literal for int() with base 10: 'Krish'",
     "output_type": "error",
     "traceback": [
      "\u001b[31m---------------------------------------------------------------------------\u001b[39m",
      "\u001b[31mValueError\u001b[39m                                Traceback (most recent call last)",
      "\u001b[36mCell\u001b[39m\u001b[36m \u001b[39m\u001b[32mIn[7]\u001b[39m\u001b[32m, line 2\u001b[39m\n\u001b[32m      1\u001b[39m name = \u001b[33m\"\u001b[39m\u001b[33mKrish\u001b[39m\u001b[33m\"\u001b[39m\n\u001b[32m----> \u001b[39m\u001b[32m2\u001b[39m \u001b[38;5;28;43mint\u001b[39;49m\u001b[43m(\u001b[49m\u001b[43mname\u001b[49m\u001b[43m)\u001b[49m  \u001b[38;5;66;03m# This will raise a ValueError\u001b[39;00m\n",
      "\u001b[31mValueError\u001b[39m: invalid literal for int() with base 10: 'Krish'"
     ]
    }
   ],
   "source": [
    "name = \"Krish\"\n",
    "int(name)  # This will raise a ValueError\n"
   ]
  },
  {
   "cell_type": "code",
   "execution_count": null,
   "id": "538bfa3e",
   "metadata": {},
   "outputs": [],
   "source": [
    "height = 5.11\n",
    "type(height)  # Output: float\n"
   ]
  },
  {
   "cell_type": "code",
   "execution_count": null,
   "id": "1afc660f",
   "metadata": {},
   "outputs": [],
   "source": [
    "float(int(height))  # Converts 5.11 → 5 (int) → 5.0 (float)\n"
   ]
  },
  {
   "cell_type": "code",
   "execution_count": null,
   "id": "6e4abd67",
   "metadata": {},
   "outputs": [],
   "source": [
    "## Dynamic Typing\n",
    "## Python allows the type of a variable to change as the program executes\n",
    "\n",
    "var = 10        # int\n",
    "print(var, type(var))\n",
    "\n",
    "var = \"Hello\"   # str\n",
    "print(var, type(var))\n",
    "\n",
    "var = 3.14      # float\n",
    "print(var, type(var))\n",
    "\n"
   ]
  },
  {
   "cell_type": "code",
   "execution_count": null,
   "id": "b7932ae9",
   "metadata": {},
   "outputs": [],
   "source": [
    "## Input\n",
    "\n",
    "age = int(input(\"What is the age? \"))\n",
    "print(age, type(age))\n"
   ]
  },
  {
   "cell_type": "code",
   "execution_count": null,
   "id": "29255ee4",
   "metadata": {},
   "outputs": [],
   "source": [
    "### Simple calculator\n",
    "num1 = float(input(\"Enter first number: \"))\n",
    "num2 = float(input(\"Enter second number: \"))\n",
    "\n",
    "sum = num1 + num2\n",
    "difference = num1 - num2\n",
    "product = num1 * num2\n",
    "quotient = num1 / num2\n",
    "\n",
    "print(\"Sum:\", sum)\n",
    "print(\"Difference:\", difference)\n",
    "print(\"Product:\", product)\n",
    "print(\"Quotient:\", quotient)\n",
    "\n"
   ]
  },
  {
   "cell_type": "markdown",
   "id": "27c93fcc",
   "metadata": {},
   "source": [
    "<h3 style=\"color:#e67e22;\">Conclusion:</h3>\n",
    "\n",
    "<p style=\"color:#f1c40f;\">\n",
    "Variables are essential in Python programming for <strong style=\"color:#00ffff;\">storing and manipulating data</strong>.\n",
    "Understanding how to declare, assign, and use variables effectively is crucial for writing functional and efficient code.\n",
    "</p>\n",
    "\n",
    "<p style=\"color:#f1c40f;\">\n",
    "Following proper <strong style=\"color:#00ffff;\">naming conventions</strong> and understanding <strong style=\"color:#00ffff;\">variable types</strong>\n",
    "will help in maintaining readability and consistency in your code.\n",
    "</p>\n"
   ]
  }
 ],
 "metadata": {
  "kernelspec": {
   "display_name": "venv",
   "language": "python",
   "name": "python3"
  },
  "language_info": {
   "codemirror_mode": {
    "name": "ipython",
    "version": 3
   },
   "file_extension": ".py",
   "mimetype": "text/x-python",
   "name": "python",
   "nbconvert_exporter": "python",
   "pygments_lexer": "ipython3",
   "version": "3.12.0"
  }
 },
 "nbformat": 4,
 "nbformat_minor": 5
}
