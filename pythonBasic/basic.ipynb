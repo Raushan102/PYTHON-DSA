{
 "cells": [
  {
   "cell_type": "markdown",
   "id": "0622852b",
   "metadata": {},
   "source": [
    "<h3 style=\"color:#2c3e50;\">Syntax and Semantics in Python</h3>\n",
    "\n",
    "<span style=\"color:#16a085;\"><strong>Video Outline:</strong></span>  \n",
    "<ul style=\"color:#f1c40f;\">\n",
    "  <li>Single line Comments and multiline comments</li>\n",
    "  <li>Definition of Syntax and Semantics</li>\n",
    "  <li>Basic Syntax Rules in Python</li>\n",
    "  <li>Understanding Semantics in Python</li>\n",
    "  <li>Common Syntax Errors and How to Avoid Them</li>\n",
    "  <li>Practical Code Examples</li>\n",
    "</ul>\n"
   ]
  },
  {
   "cell_type": "markdown",
   "id": "11cbe9fd",
   "metadata": {},
   "source": [
    "<h4 style=\"color:aqua;\">Syntax vs Semantics</h4>\n",
    "\n",
    "<p style=\"color:#f1c40f;\">\n",
    "<span style=\"color:#00ffff;\"><strong>Syntax</strong></span> refers to the set of rules that defines the combinations of symbols that are considered to be correctly structured programs in a language. <br>\n",
    "In simpler terms, <span style=\"color:#00ffff;\"><strong>syntax is about the correct arrangement</strong></span> of words and symbols in a code.\n",
    "</p>\n",
    "\n",
    "<p style=\"color:#f1c40f;\">\n",
    "<span style=\"color:#00ffff;\"><strong>Semantics</strong></span> refers to the <span style=\"color:#00ffff;\"><strong>meaning or interpretation</strong></span> of the symbols, characters, and commands in a language. <br>\n",
    "It is about what the code is supposed to do when it runs.\n",
    "</p>\n"
   ]
  },
  {
   "cell_type": "code",
   "execution_count": null,
   "id": "13c5c540",
   "metadata": {},
   "outputs": [],
   "source": [
    "## Basic Syntax Rules In Python\n",
    "## Case sensitivity - Python is case sensitive\n",
    "\n",
    "name = \"Krish\"\n",
    "Name = \"Naik\"\n",
    "\n",
    "print(name) # both variables are different identify...\n",
    "print(Name)\n"
   ]
  },
  {
   "cell_type": "markdown",
   "id": "ceaca2d6",
   "metadata": {},
   "source": [
    "<h4 style=\"color:aqua;\">Indentation</h4>\n",
    "\n",
    "<p style=\"color:#f1c40f;\">\n",
    "Indentation in Python is used to define the structure and hierarchy of the code. <br>\n",
    "Unlike many other programming languages that use braces <code>{}</code> to delimit blocks of code, <strong style=\"color:#00ffff;\">Python uses indentation</strong> to determine the grouping of statements.\n",
    "</p>\n",
    "\n",
    "<p style=\"color:#f1c40f;\">\n",
    "This means that all the statements within a block must be indented at the same level.\n",
    "</p>\n"
   ]
  },
  {
   "cell_type": "code",
   "execution_count": null,
   "id": "67bbf678",
   "metadata": {},
   "outputs": [],
   "source": [
    "## Indentation\n",
    "## Python uses indentation to define blocks of code. Consistent use of spaces (commonly 4) or a tab is required.\n",
    "\n",
    "age = 32\n",
    "if age > 30:\n",
    "    \n",
    "    print(age)\n",
    "    \n",
    "print(age)\n"
   ]
  },
  {
   "cell_type": "code",
   "execution_count": null,
   "id": "19b94af4",
   "metadata": {},
   "outputs": [],
   "source": [
    "## This is a single line comment\n",
    "print(\"Hello World\")\n"
   ]
  },
  {
   "cell_type": "code",
   "execution_count": 7,
   "id": "9da484ca",
   "metadata": {},
   "outputs": [
    {
     "name": "stdout",
     "output_type": "stream",
     "text": [
      "43\n"
     ]
    }
   ],
   "source": [
    "## Line Continuation\n",
    "## Use a backslash (\\) to continue a statement to the next line\n",
    "\n",
    "total = 1 + 2 + 3 + 4 + 5 + 6 + 7 + \\\n",
    "        4 + 5 + 6\n",
    "\n",
    "print(total)\n"
   ]
  },
  {
   "cell_type": "code",
   "execution_count": 8,
   "id": "ad4d0a57",
   "metadata": {},
   "outputs": [
    {
     "name": "stdout",
     "output_type": "stream",
     "text": [
      "15\n"
     ]
    }
   ],
   "source": [
    "## Multiple Statements on a single line\n",
    "x = 5; y = 10; z = x + y\n",
    "print(z)"
   ]
  },
  {
   "cell_type": "code",
   "execution_count": 9,
   "id": "28da0fbe",
   "metadata": {},
   "outputs": [],
   "source": [
    "## Understand Semantics In Python\n",
    "# variable assignment\n",
    "age = 32      # age is an integer\n",
    "name = \"Krish\"  # name is a string\n"
   ]
  },
  {
   "cell_type": "code",
   "execution_count": null,
   "id": "6c427fae",
   "metadata": {},
   "outputs": [],
   "source": [
    "type(age)"
   ]
  },
  {
   "cell_type": "code",
   "execution_count": null,
   "id": "13a0664d",
   "metadata": {},
   "outputs": [],
   "source": [
    "type(name)"
   ]
  },
  {
   "cell_type": "code",
   "execution_count": 10,
   "id": "44ead19f",
   "metadata": {},
   "outputs": [
    {
     "name": "stdout",
     "output_type": "stream",
     "text": [
      "<class 'int'>\n",
      "<class 'str'>\n"
     ]
    }
   ],
   "source": [
    "## type Inference\n",
    "variable=10\n",
    "print(type(variable))\n",
    "\n",
    "variable=\"raushan\"\n",
    "print(type(variable))"
   ]
  },
  {
   "cell_type": "code",
   "execution_count": 11,
   "id": "08e1e701",
   "metadata": {},
   "outputs": [
    {
     "name": "stdout",
     "output_type": "stream",
     "text": [
      "32\n"
     ]
    }
   ],
   "source": [
    "age = 32\n",
    "if age > 30:\n",
    "    print(age)\n",
    "\n"
   ]
  },
  {
   "cell_type": "code",
   "execution_count": null,
   "id": "523cd8ab",
   "metadata": {},
   "outputs": [
    {
     "ename": "NameError",
     "evalue": "name 'b' is not defined",
     "output_type": "error",
     "traceback": [
      "\u001b[31m---------------------------------------------------------------------------\u001b[39m",
      "\u001b[31mNameError\u001b[39m                                 Traceback (most recent call last)",
      "\u001b[36mCell\u001b[39m\u001b[36m \u001b[39m\u001b[32mIn[12]\u001b[39m\u001b[32m, line 2\u001b[39m\n\u001b[32m      1\u001b[39m \u001b[38;5;66;03m## Name Error\u001b[39;00m\n\u001b[32m----> \u001b[39m\u001b[32m2\u001b[39m a = \u001b[43mb\u001b[49m\n",
      "\u001b[31mNameError\u001b[39m: name 'b' is not defined"
     ]
    }
   ],
   "source": [
    "## Name Error\n",
    "a = b\n"
   ]
  },
  {
   "cell_type": "code",
   "execution_count": 13,
   "id": "809af87d",
   "metadata": {},
   "outputs": [
    {
     "name": "stdout",
     "output_type": "stream",
     "text": [
      "Correct Indentation\n",
      "This will print\n",
      "Outside the if block\n"
     ]
    }
   ],
   "source": [
    "## Code examples of indentation\n",
    "if True:\n",
    "    print(\"Correct Indentation\")\n",
    "    if False:\n",
    "        print(\"This wont print\")\n",
    "    print(\"This will print\")\n",
    "print(\"Outside the if block\")\n"
   ]
  },
  {
   "cell_type": "markdown",
   "id": "0b3c85c9",
   "metadata": {},
   "source": [
    "<h4 style=\"color:aqua;\">Conclusion:</h4>\n",
    "\n",
    "<p style=\"color:#f1c40f;\">\n",
    "Understanding the <span style=\"color:#00ffff;\"><strong>syntax</strong></span> and <span style=\"color:#00ffff;\"><strong>semantics</strong></span> of Python is crucial for writing correct and meaningful programs.\n",
    "</p>\n",
    "\n",
    "<p style=\"color:#f1c40f;\">\n",
    "<span style=\"color:#00ffff;\"><strong>Syntax</strong></span> ensures the code is properly structured, while <span style=\"color:#00ffff;\"><strong>semantics</strong></span> ensures the code behaves as expected.\n",
    "</p>\n",
    "\n",
    "<p style=\"color:#f1c40f;\">\n",
    "Mastering these concepts will help in writing <strong style=\"color:#00ffff;\">efficient</strong> and <strong style=\"color:#00ffff;\">error-free Python code</strong>.\n",
    "</p>\n"
   ]
  }
 ],
 "metadata": {
  "kernelspec": {
   "display_name": "venv",
   "language": "python",
   "name": "python3"
  },
  "language_info": {
   "codemirror_mode": {
    "name": "ipython",
    "version": 3
   },
   "file_extension": ".py",
   "mimetype": "text/x-python",
   "name": "python",
   "nbconvert_exporter": "python",
   "pygments_lexer": "ipython3",
   "version": "3.12.0"
  }
 },
 "nbformat": 4,
 "nbformat_minor": 5
}
