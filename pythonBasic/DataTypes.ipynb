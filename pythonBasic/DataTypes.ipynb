{
 "cells": [
  {
   "cell_type": "markdown",
   "id": "c397db08",
   "metadata": {},
   "source": [
    "<h3 style=\"color:#d35400;\">DataTypes</h3>\n",
    "\n",
    "<h4 style=\"color:#e74c3c;\">1. Definition:</h4>\n",
    "\n",
    "<ul style=\"color:#f1c40f;\">\n",
    "  <li>Data types are a classification of data which tell the compiler or interpreter how the programmer intends to use the data.</li>\n",
    "  <li>They determine the type of operations that can be performed on the data, the values that the data can take, and the amount of memory needed to store the data.</li>\n",
    "</ul>\n",
    "\n",
    "<h4 style=\"color:#e74c3c;\">2. Importance of Data Types in Programming</h4>\n",
    "\n",
    "<p style=\"color:#f1c40f;\"><strong style=\"color:#00ffff;\">Explanation:</strong></p>\n",
    "\n",
    "<ul style=\"color:#f1c40f;\">\n",
    "  <li>Data types ensure that data is stored in an efficient way.</li>\n",
    "  <li>They help in performing correct operations on data.</li>\n",
    "  <li>Proper use of data types can prevent errors and bugs in the program.</li>\n",
    "</ul>\n",
    "\n"
   ]
  },
  {
   "cell_type": "markdown",
   "id": "6678b637",
   "metadata": {},
   "source": [
    "<h4 style=\"color:#e74c3c;\">Video Outline:</h4>\n",
    "\n",
    "<ul style=\"color:#f1c40f;\">\n",
    "  <li>1. Introduction to Data Types</li>\n",
    "  <li>2. Importance of Data Types in Programming</li>\n",
    "  <li>3. Basic Data Types\n",
    "    <ul>\n",
    "      <li>Integers</li>\n",
    "      <li>Floating-point numbers</li>\n",
    "      <li>Strings</li>\n",
    "      <li>Booleans</li>\n",
    "    </ul>\n",
    "  </li>\n",
    "  <li>4. Advanced Data Types\n",
    "    <ul>\n",
    "      <li>Lists</li>\n",
    "      <li>Tuples</li>\n",
    "      <li>Sets</li>\n",
    "      <li>Dictionaries</li>\n",
    "    </ul>\n",
    "  </li>\n",
    "  <li>5. Type Conversion</li>\n",
    "  <li>6. Practical Examples</li>\n",
    "</ul>\n"
   ]
  },
  {
   "cell_type": "code",
   "execution_count": null,
   "id": "2a3c72fa",
   "metadata": {},
   "outputs": [],
   "source": [
    "## Integer Example\n",
    "age = 35\n",
    "type(age)  # Output: <class 'int'>\n"
   ]
  },
  {
   "cell_type": "code",
   "execution_count": null,
   "id": "22d7f6db",
   "metadata": {},
   "outputs": [],
   "source": [
    "## Floating Point Data Type\n",
    "height = 5.11\n",
    "print(height)           # Output: 5.11\n",
    "print(type(height))     # Output: <class 'float'>\n"
   ]
  },
  {
   "cell_type": "code",
   "execution_count": null,
   "id": "a2820ba0",
   "metadata": {},
   "outputs": [],
   "source": [
    "## String Data Type Example\n",
    "name = \"Krish\"\n",
    "print(name)           # Output: Krish\n",
    "print(type(name))     # Output: <class 'str'>\n"
   ]
  },
  {
   "cell_type": "code",
   "execution_count": null,
   "id": "571f7bfc",
   "metadata": {},
   "outputs": [],
   "source": [
    "## Boolean Data Type\n",
    "is_true = True\n",
    "type(is_true)  # Output: <class 'bool'>\n"
   ]
  },
  {
   "cell_type": "code",
   "execution_count": null,
   "id": "b7e9248b",
   "metadata": {},
   "outputs": [],
   "source": [
    "a = 10\n",
    "b = 10\n",
    "\n",
    "type(a == b)  # Output: <class 'bool'>\n"
   ]
  },
  {
   "cell_type": "code",
   "execution_count": 1,
   "id": "dd18e0e6",
   "metadata": {},
   "outputs": [
    {
     "ename": "TypeError",
     "evalue": "can only concatenate str (not \"int\") to str",
     "output_type": "error",
     "traceback": [
      "\u001b[31m---------------------------------------------------------------------------\u001b[39m",
      "\u001b[31mTypeError\u001b[39m                                 Traceback (most recent call last)",
      "\u001b[36mCell\u001b[39m\u001b[36m \u001b[39m\u001b[32mIn[1]\u001b[39m\u001b[32m, line 3\u001b[39m\n\u001b[32m      1\u001b[39m \u001b[38;5;66;03m## Common Error Example\u001b[39;00m\n\u001b[32m----> \u001b[39m\u001b[32m3\u001b[39m result = \u001b[33;43m\"\u001b[39;49m\u001b[33;43mHello\u001b[39;49m\u001b[33;43m\"\u001b[39;49m\u001b[43m \u001b[49m\u001b[43m+\u001b[49m\u001b[43m \u001b[49m\u001b[32;43m5\u001b[39;49m  \u001b[38;5;66;03m# ❌ This will raise a TypeError\u001b[39;00m\n",
      "\u001b[31mTypeError\u001b[39m: can only concatenate str (not \"int\") to str"
     ]
    }
   ],
   "source": [
    "## Common Error Example\n",
    "\n",
    "result = \"Hello\" + 5  # ❌ This will raise a TypeError\n"
   ]
  },
  {
   "cell_type": "code",
   "execution_count": 2,
   "id": "8b1e9d1d",
   "metadata": {},
   "outputs": [
    {
     "name": "stdout",
     "output_type": "stream",
     "text": [
      "Hello5\n"
     ]
    }
   ],
   "source": [
    "result = \"Hello\" + str(5)\n",
    "print(result)  # Output: Hello5\n"
   ]
  },
  {
   "cell_type": "markdown",
   "id": "2b8ff656",
   "metadata": {},
   "source": [
    "<h3 style=\"color:#d35400;\">Conclusion:</h3>\n",
    "\n",
    "<p style=\"color:#f1c40f;\">\n",
    "Understanding <strong style=\"color:#00ffff;\">data types</strong> is essential in Python programming as they define the kind of data a variable can store and what operations can be performed on it.\n",
    "</p>\n",
    "\n",
    "<p style=\"color:#f1c40f;\">\n",
    "Using the correct data type helps avoid errors, improves performance, and ensures that the code behaves as expected.\n",
    "</p>\n",
    "\n",
    "<p style=\"color:#f1c40f;\">\n",
    "Mastering both basic and advanced data types is a foundation for writing reliable and efficient Python programs.\n",
    "</p>\n"
   ]
  }
 ],
 "metadata": {
  "kernelspec": {
   "display_name": "venv",
   "language": "python",
   "name": "python3"
  },
  "language_info": {
   "codemirror_mode": {
    "name": "ipython",
    "version": 3
   },
   "file_extension": ".py",
   "mimetype": "text/x-python",
   "name": "python",
   "nbconvert_exporter": "python",
   "pygments_lexer": "ipython3",
   "version": "3.12.0"
  }
 },
 "nbformat": 4,
 "nbformat_minor": 5
}
